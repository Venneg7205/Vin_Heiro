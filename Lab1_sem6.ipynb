{
 "cells": [
  {
   "cell_type": "code",
   "execution_count": 9,
   "metadata": {},
   "outputs": [
    {
     "ename": "KeyboardInterrupt",
     "evalue": "Interrupted by user",
     "output_type": "error",
     "traceback": [
      "\u001b[1;31m---------------------------------------------------------------------------\u001b[0m",
      "\u001b[1;31mKeyboardInterrupt\u001b[0m                         Traceback (most recent call last)",
      "Cell \u001b[1;32mIn[9], line 8\u001b[0m\n\u001b[0;32m      5\u001b[0m     \u001b[38;5;28;01mreturn\u001b[39;00m \u001b[38;5;28;01mFalse\u001b[39;00m\n\u001b[0;32m      7\u001b[0m \u001b[38;5;66;03m# Пример использования\u001b[39;00m\n\u001b[1;32m----> 8\u001b[0m N \u001b[38;5;241m=\u001b[39m \u001b[38;5;28mint\u001b[39m(\u001b[38;5;28;43minput\u001b[39;49m\u001b[43m(\u001b[49m\u001b[38;5;124;43m\"\u001b[39;49m\u001b[38;5;124;43mВведите количество элементов: \u001b[39;49m\u001b[38;5;124;43m\"\u001b[39;49m\u001b[43m)\u001b[49m)\n\u001b[0;32m      9\u001b[0m arr \u001b[38;5;241m=\u001b[39m \u001b[38;5;28mlist\u001b[39m(\u001b[38;5;28mmap\u001b[39m(\u001b[38;5;28mint\u001b[39m, \u001b[38;5;28minput\u001b[39m(\u001b[38;5;124m\"\u001b[39m\u001b[38;5;124mВведите элементы массива через пробел: \u001b[39m\u001b[38;5;124m\"\u001b[39m)\u001b[38;5;241m.\u001b[39msplit()))\n\u001b[0;32m     11\u001b[0m \u001b[38;5;28;01mif\u001b[39;00m has_two_consecutive_zeros(arr):\n",
      "File \u001b[1;32mc:\\Users\\User\\AppData\\Local\\Programs\\Python\\Python312\\Lib\\site-packages\\ipykernel\\kernelbase.py:1282\u001b[0m, in \u001b[0;36mKernel.raw_input\u001b[1;34m(self, prompt)\u001b[0m\n\u001b[0;32m   1280\u001b[0m     msg \u001b[38;5;241m=\u001b[39m \u001b[38;5;124m\"\u001b[39m\u001b[38;5;124mraw_input was called, but this frontend does not support input requests.\u001b[39m\u001b[38;5;124m\"\u001b[39m\n\u001b[0;32m   1281\u001b[0m     \u001b[38;5;28;01mraise\u001b[39;00m StdinNotImplementedError(msg)\n\u001b[1;32m-> 1282\u001b[0m \u001b[38;5;28;01mreturn\u001b[39;00m \u001b[38;5;28;43mself\u001b[39;49m\u001b[38;5;241;43m.\u001b[39;49m\u001b[43m_input_request\u001b[49m\u001b[43m(\u001b[49m\n\u001b[0;32m   1283\u001b[0m \u001b[43m    \u001b[49m\u001b[38;5;28;43mstr\u001b[39;49m\u001b[43m(\u001b[49m\u001b[43mprompt\u001b[49m\u001b[43m)\u001b[49m\u001b[43m,\u001b[49m\n\u001b[0;32m   1284\u001b[0m \u001b[43m    \u001b[49m\u001b[38;5;28;43mself\u001b[39;49m\u001b[38;5;241;43m.\u001b[39;49m\u001b[43m_parent_ident\u001b[49m\u001b[43m[\u001b[49m\u001b[38;5;124;43m\"\u001b[39;49m\u001b[38;5;124;43mshell\u001b[39;49m\u001b[38;5;124;43m\"\u001b[39;49m\u001b[43m]\u001b[49m\u001b[43m,\u001b[49m\n\u001b[0;32m   1285\u001b[0m \u001b[43m    \u001b[49m\u001b[38;5;28;43mself\u001b[39;49m\u001b[38;5;241;43m.\u001b[39;49m\u001b[43mget_parent\u001b[49m\u001b[43m(\u001b[49m\u001b[38;5;124;43m\"\u001b[39;49m\u001b[38;5;124;43mshell\u001b[39;49m\u001b[38;5;124;43m\"\u001b[39;49m\u001b[43m)\u001b[49m\u001b[43m,\u001b[49m\n\u001b[0;32m   1286\u001b[0m \u001b[43m    \u001b[49m\u001b[43mpassword\u001b[49m\u001b[38;5;241;43m=\u001b[39;49m\u001b[38;5;28;43;01mFalse\u001b[39;49;00m\u001b[43m,\u001b[49m\n\u001b[0;32m   1287\u001b[0m \u001b[43m\u001b[49m\u001b[43m)\u001b[49m\n",
      "File \u001b[1;32mc:\\Users\\User\\AppData\\Local\\Programs\\Python\\Python312\\Lib\\site-packages\\ipykernel\\kernelbase.py:1325\u001b[0m, in \u001b[0;36mKernel._input_request\u001b[1;34m(self, prompt, ident, parent, password)\u001b[0m\n\u001b[0;32m   1322\u001b[0m \u001b[38;5;28;01mexcept\u001b[39;00m \u001b[38;5;167;01mKeyboardInterrupt\u001b[39;00m:\n\u001b[0;32m   1323\u001b[0m     \u001b[38;5;66;03m# re-raise KeyboardInterrupt, to truncate traceback\u001b[39;00m\n\u001b[0;32m   1324\u001b[0m     msg \u001b[38;5;241m=\u001b[39m \u001b[38;5;124m\"\u001b[39m\u001b[38;5;124mInterrupted by user\u001b[39m\u001b[38;5;124m\"\u001b[39m\n\u001b[1;32m-> 1325\u001b[0m     \u001b[38;5;28;01mraise\u001b[39;00m \u001b[38;5;167;01mKeyboardInterrupt\u001b[39;00m(msg) \u001b[38;5;28;01mfrom\u001b[39;00m\u001b[38;5;250m \u001b[39m\u001b[38;5;28;01mNone\u001b[39;00m\n\u001b[0;32m   1326\u001b[0m \u001b[38;5;28;01mexcept\u001b[39;00m \u001b[38;5;167;01mException\u001b[39;00m:\n\u001b[0;32m   1327\u001b[0m     \u001b[38;5;28mself\u001b[39m\u001b[38;5;241m.\u001b[39mlog\u001b[38;5;241m.\u001b[39mwarning(\u001b[38;5;124m\"\u001b[39m\u001b[38;5;124mInvalid Message:\u001b[39m\u001b[38;5;124m\"\u001b[39m, exc_info\u001b[38;5;241m=\u001b[39m\u001b[38;5;28;01mTrue\u001b[39;00m)\n",
      "\u001b[1;31mKeyboardInterrupt\u001b[0m: Interrupted by user"
     ]
    }
   ],
   "source": [
    "def has_two_consecutive_zeros(arr):\n",
    "    for i in range(len(arr) - 1):\n",
    "        if arr[i] == 0 and arr[i + 1] == 0:\n",
    "            return True\n",
    "    return False\n",
    "\n",
    "# Пример использования\n",
    "N = int(input(\"Введите количество элементов: \"))\n",
    "arr = list(map(int, input(\"Введите элементы массива через пробел: \").split()))\n",
    "\n",
    "if has_two_consecutive_zeros(arr):\n",
    "    print(\"Есть два подряд идущих нуля.\")\n",
    "else:\n",
    "    print(\"Два подряд идущих нуля отсутствуют.\")"
   ]
  },
  {
   "cell_type": "code",
   "execution_count": null,
   "metadata": {},
   "outputs": [
    {
     "name": "stdout",
     "output_type": "stream",
     "text": [
      ". * . * .\n",
      "* . * . *\n",
      ". * . * .\n"
     ]
    }
   ],
   "source": [
    "def create_chessboard(n, m):\n",
    "    chessboard = [['.' if (i + j) % 2 == 0 else '*' for j in range(m)] for i in range(n)]\n",
    "    return chessboard\n",
    "\n",
    "# Пример использования\n",
    "n = int(input(\"Введите количество строк: \"))\n",
    "m = int(input(\"Введите количество столбцов: \"))\n",
    "\n",
    "chessboard = create_chessboard(n, m)\n",
    "for row in chessboard:\n",
    "    print(' '.join(row))"
   ]
  },
  {
   "cell_type": "code",
   "execution_count": null,
   "metadata": {},
   "outputs": [
    {
     "name": "stdout",
     "output_type": "stream",
     "text": [
      "Первая пара соседних элементов одного знака: 1 и 6\n"
     ]
    }
   ],
   "source": [
    "def find_first_same_sign_pair(lst):\n",
    "    for i in range(len(lst) - 1):\n",
    "        if lst[i] * lst[i + 1] > 0:  # Проверяем одинаковый знак\n",
    "            return lst[i], lst[i + 1]\n",
    "    return None\n",
    "\n",
    "# Пример использования\n",
    "lst = list(map(int, input(\"Введите список чисел через пробел: \").split()))\n",
    "result = find_first_same_sign_pair(lst)\n",
    "\n",
    "if result:\n",
    "    print(f\"Первая пара соседних элементов одного знака: {result[0]} и {result[1]}\")\n",
    "else:\n",
    "    print(\"Соседних элементов одного знака нет.\")"
   ]
  },
  {
   "cell_type": "code",
   "execution_count": null,
   "metadata": {},
   "outputs": [
    {
     "name": "stdout",
     "output_type": "stream",
     "text": [
      "Общее количество учеников в классе: 29\n"
     ]
    }
   ],
   "source": [
    "# Дано:\n",
    "planetary = 19  # Планетарий\n",
    "circus = 10     # Цирк\n",
    "stadium = 6     # Стадион\n",
    "p_and_c = 5     # Планетарий и цирк\n",
    "p_and_s = 3     # Планетарий и стадион\n",
    "c_and_s = 1     # Цирк и стадион\n",
    "sick = 3        # Болели дома\n",
    "\n",
    "# Формула для расчета общего количества учеников:\n",
    "total_students = planetary + circus + stadium - p_and_c - p_and_s - c_and_s + sick\n",
    "\n",
    "print(f\"Общее количество учеников в классе: {total_students}\")"
   ]
  },
  {
   "cell_type": "code",
   "execution_count": null,
   "metadata": {},
   "outputs": [
    {
     "name": "stdout",
     "output_type": "stream",
     "text": [
      "cat: кот, кошка\n",
      "dog: собака\n",
      "bird: птица\n",
      "map: карта\n",
      "card: карта\n",
      "house: дом\n",
      "home: дом\n"
     ]
    }
   ],
   "source": [
    "from collections import defaultdict\n",
    "\n",
    "# Фиксированные пары русских и английских слов\n",
    "pairs = [\n",
    "    (\"кот\", \"cat\"),\n",
    "    (\"собака\", \"dog\"),\n",
    "    (\"кошка\", \"cat\"),\n",
    "    (\"птица\", \"bird\"),\n",
    "    (\"карта\", \"map\"),\n",
    "    (\"карта\", \"card\"),\n",
    "    (\"дом\", \"house\"),\n",
    "    (\"дом\", \"home\"),\n",
    "    (\"кот\", \"cat\")  # Повторяющаяся пара\n",
    "]\n",
    "\n",
    "# Создание англо-русского словаря\n",
    "def create_english_to_russian_dict(pairs):\n",
    "    eng_to_rus = defaultdict(list)\n",
    "    \n",
    "    for rus_word, eng_word in pairs:\n",
    "        if rus_word not in eng_to_rus[eng_word]:\n",
    "            eng_to_rus[eng_word].append(rus_word)\n",
    "    \n",
    "    return dict(eng_to_rus)\n",
    "\n",
    "# Генерация словаря\n",
    "dictionary = create_english_to_russian_dict(pairs)\n",
    "\n",
    "# Вывод англо-русского словаря\n",
    "for eng_word, rus_words in dictionary.items():\n",
    "    print(f\"{eng_word}: {', '.join(rus_words)}\")"
   ]
  }
 ],
 "metadata": {
  "kernelspec": {
   "display_name": "Python 3",
   "language": "python",
   "name": "python3"
  },
  "language_info": {
   "codemirror_mode": {
    "name": "ipython",
    "version": 3
   },
   "file_extension": ".py",
   "mimetype": "text/x-python",
   "name": "python",
   "nbconvert_exporter": "python",
   "pygments_lexer": "ipython3",
   "version": "3.12.8"
  }
 },
 "nbformat": 4,
 "nbformat_minor": 2
}
