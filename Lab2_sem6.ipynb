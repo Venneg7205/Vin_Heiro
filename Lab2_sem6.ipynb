{
 "cells": [
  {
   "cell_type": "code",
   "execution_count": 1,
   "metadata": {},
   "outputs": [
    {
     "name": "stdout",
     "output_type": "stream",
     "text": [
      "Вектор: начальная точка (0, 0), конечная точка (3, 4)\n",
      "Удвоенный вектор: начальная точка (0, 0), конечная точка (6, 8)\n",
      "Площадь треугольника: 6.0\n",
      "Вектор: начальная точка (3.0, 2.0), конечная точка (4.0, 6.0)\n",
      "Удвоенный вектор: начальная точка (3.0, 2.0), конечная точка (5.0, 10.0)\n",
      "Площадь треугольника: 2.0\n"
     ]
    }
   ],
   "source": [
    "import math\n",
    "\n",
    "class Vector2D:\n",
    "    def __init__(self, x1=0, y1=0, x2=0, y2=0):\n",
    "        \"\"\"Конструктор по умолчанию или с параметрами\"\"\"\n",
    "        self.x1 = x1\n",
    "        self.y1 = y1\n",
    "        self.x2 = x2\n",
    "        self.y2 = y2\n",
    "\n",
    "    def __del__(self):\n",
    "        \"\"\"Деструктор для освобождения памяти\"\"\"\n",
    "        print(f\"Вектор ({self.x1}, {self.y1}, {self.x2}, {self.y2}) удален.\")\n",
    "\n",
    "    def doubled_vector(self):\n",
    "        \"\"\"Вычисление координат вектора, удвоенной длины\"\"\"\n",
    "        dx = self.x2 - self.x1\n",
    "        dy = self.y2 - self.y1\n",
    "        doubled_x2 = self.x1 + 2 * dx\n",
    "        doubled_y2 = self.y1 + 2 * dy\n",
    "        return (self.x1, self.y1, doubled_x2, doubled_y2)\n",
    "\n",
    "    def triangle_area(self):\n",
    "        \"\"\"Вычисление площади прямоугольного треугольника\"\"\"\n",
    "        base = abs(self.x2 - self.x1)\n",
    "        height = abs(self.y2 - self.y1)\n",
    "        area = 0.5 * base * height\n",
    "        return area\n",
    "\n",
    "    def __str__(self):\n",
    "        \"\"\"Формирование строки информации об объекте\"\"\"\n",
    "        return f\"Вектор: начальная точка ({self.x1}, {self.y1}), конечная точка ({self.x2}, {self.y2})\"\n",
    "\n",
    "# Демонстрация работы класса\n",
    "if __name__ == \"__main__\":\n",
    "    # Создание объектов со значениями-константами\n",
    "    vector1 = Vector2D(0, 0, 3, 4)  # Вектор (0, 0) -> (3, 4)\n",
    "    print(vector1)  # Вывод информации о векторе\n",
    "    doubled_coords = vector1.doubled_vector()\n",
    "    print(f\"Удвоенный вектор: начальная точка ({doubled_coords[0]}, {doubled_coords[1]}), \"\n",
    "          f\"конечная точка ({doubled_coords[2]}, {doubled_coords[3]})\")\n",
    "    area = vector1.triangle_area()\n",
    "    print(f\"Площадь треугольника: {area}\")\n",
    "\n",
    "    # Создание объекта с пользовательскими значениями\n",
    "    try:\n",
    "        x1 = float(input(\"Введите x1: \"))\n",
    "        y1 = float(input(\"Введите y1: \"))\n",
    "        x2 = float(input(\"Введите x2: \"))\n",
    "        y2 = float(input(\"Введите y2: \"))\n",
    "        vector2 = Vector2D(x1, y1, x2, y2)\n",
    "        print(vector2)  # Вывод информации о векторе\n",
    "        doubled_coords = vector2.doubled_vector()\n",
    "        print(f\"Удвоенный вектор: начальная точка ({doubled_coords[0]}, {doubled_coords[1]}), \"\n",
    "              f\"конечная точка ({doubled_coords[2]}, {doubled_coords[3]})\")\n",
    "        area = vector2.triangle_area()\n",
    "        print(f\"Площадь треугольника: {area}\")\n",
    "    except ValueError:\n",
    "        print(\"Ошибка: введены некорректные значения.\")"
   ]
  },
  {
   "cell_type": "markdown",
   "metadata": {},
   "source": [
    "### Объяснение кода:\n",
    "\n",
    "1. **Конструктор (`__init__`)**:\n",
    "   - Инициализирует координаты вектора `(x1, y1)` — начальная точка, `(x2, y2)` — конечная точка.\n",
    "   - Если параметры не указаны, использует значения по умолчанию `(0, 0, 0, 0)`.\n",
    "\n",
    "2. **Деструктор (`__del__`)**:\n",
    "   - Выводит сообщение об удалении объекта.\n",
    "\n",
    "3. **Метод `doubled_vector`**:\n",
    "   - Вычисляет координаты вектора, удвоенной длины, сохраняя начальную точку.\n",
    "\n",
    "4. **Метод `triangle_area`**:\n",
    "   - Вычисляет площадь прямоугольного треугольника, образованного вектором и осями Ox, Oy.\n",
    "\n",
    "5. **Метод `__str__`**:\n",
    "   - Возвращает строковое представление объекта.\n",
    "\n",
    "6. **Демонстрация работы**:\n",
    "   - Создается объект с константными значениями.\n",
    "   - Пользователь может ввести свои значения для создания второго объекта.\n",
    "\n"
   ]
  }
 ],
 "metadata": {
  "kernelspec": {
   "display_name": "Python 3",
   "language": "python",
   "name": "python3"
  },
  "language_info": {
   "codemirror_mode": {
    "name": "ipython",
    "version": 3
   },
   "file_extension": ".py",
   "mimetype": "text/x-python",
   "name": "python",
   "nbconvert_exporter": "python",
   "pygments_lexer": "ipython3",
   "version": "3.12.8"
  }
 },
 "nbformat": 4,
 "nbformat_minor": 2
}
